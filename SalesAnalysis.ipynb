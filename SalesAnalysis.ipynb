{
  "nbformat": 4,
  "nbformat_minor": 0,
  "metadata": {
    "colab": {
      "provenance": [],
      "collapsed_sections": [],
      "authorship_tag": "ABX9TyMlmsVYqtghAa/DbBNaztkU",
      "include_colab_link": true
    },
    "kernelspec": {
      "name": "python3",
      "display_name": "Python 3"
    },
    "language_info": {
      "name": "python"
    }
  },
  "cells": [
    {
      "cell_type": "markdown",
      "metadata": {
        "id": "view-in-github",
        "colab_type": "text"
      },
      "source": [
        "<a href=\"https://colab.research.google.com/github/mamon13303041/SalesAnalysis/blob/main/SalesAnalysis.ipynb\" target=\"_parent\"><img src=\"https://colab.research.google.com/assets/colab-badge.svg\" alt=\"Open In Colab\"/></a>"
      ]
    },
    {
      "cell_type": "code",
      "execution_count": 5,
      "metadata": {
        "id": "X5ILsHds0y5B"
      },
      "outputs": [],
      "source": [
        "import pandas as pd\n",
        "import os"
      ]
    },
    {
      "cell_type": "markdown",
      "source": [
        "Merge yearly salary into one csv file"
      ],
      "metadata": {
        "id": "rKoMhoxF2Lrm"
      }
    },
    {
      "cell_type": "code",
      "source": [
        "path = \"/content/sample_data/sales\"\n",
        "files = [file for file in os.listdir(path) if not file.startswith('.')] # Ignore hidden files\n",
        "\n",
        "all_months_data = pd.DataFrame()\n",
        "\n",
        "for file in files:\n",
        "  \n",
        "    current_data = pd.read_csv(path+\"/\"+file)\n",
        "    all_months_data = pd.concat([all_months_data, current_data])\n",
        "       \n",
        "all_months_data.to_csv(\"all_data_copy.csv\", index=False)\n",
        "all_months_data.head()"
      ],
      "metadata": {
        "id": "E3tSgdwO2SqW"
      },
      "execution_count": null,
      "outputs": []
    },
    {
      "cell_type": "markdown",
      "source": [
        "Read Marged yearly sales data"
      ],
      "metadata": {
        "id": "0QLsLkIJEeT_"
      }
    },
    {
      "cell_type": "code",
      "source": [
        "df=pd.read_csv(\"/content/all_data_copy.csv\")\n",
        "df.head()"
      ],
      "metadata": {
        "id": "rzP-xUdNEjUy",
        "colab": {
          "base_uri": "https://localhost:8080/",
          "height": 206
        },
        "outputId": "0434ac59-e728-44ed-eb44-61e4c2815dc0"
      },
      "execution_count": 77,
      "outputs": [
        {
          "output_type": "execute_result",
          "data": {
            "text/plain": [
              "  Order ID                Product Quantity Ordered Price Each      Order Date  \\\n",
              "0   248151  AA Batteries (4-pack)                4       3.84  09/17/19 14:44   \n",
              "1   248152   USB-C Charging Cable                2      11.95  09/29/19 10:19   \n",
              "2   248153   USB-C Charging Cable                1      11.95  09/16/19 17:48   \n",
              "3   248154       27in FHD Monitor                1     149.99  09/27/19 07:52   \n",
              "4   248155   USB-C Charging Cable                1      11.95  09/01/19 19:03   \n",
              "\n",
              "                        Purchase Address  \n",
              "0    380 North St, Los Angeles, CA 90001  \n",
              "1           511 8th St, Austin, TX 73301  \n",
              "2  151 Johnson St, Los Angeles, CA 90001  \n",
              "3      355 Hickory St, Seattle, WA 98101  \n",
              "4          125 5th St, Atlanta, GA 30301  "
            ],
            "text/html": [
              "\n",
              "  <div id=\"df-f1cbbbd5-fd79-497d-af0a-ede95a0afdf9\">\n",
              "    <div class=\"colab-df-container\">\n",
              "      <div>\n",
              "<style scoped>\n",
              "    .dataframe tbody tr th:only-of-type {\n",
              "        vertical-align: middle;\n",
              "    }\n",
              "\n",
              "    .dataframe tbody tr th {\n",
              "        vertical-align: top;\n",
              "    }\n",
              "\n",
              "    .dataframe thead th {\n",
              "        text-align: right;\n",
              "    }\n",
              "</style>\n",
              "<table border=\"1\" class=\"dataframe\">\n",
              "  <thead>\n",
              "    <tr style=\"text-align: right;\">\n",
              "      <th></th>\n",
              "      <th>Order ID</th>\n",
              "      <th>Product</th>\n",
              "      <th>Quantity Ordered</th>\n",
              "      <th>Price Each</th>\n",
              "      <th>Order Date</th>\n",
              "      <th>Purchase Address</th>\n",
              "    </tr>\n",
              "  </thead>\n",
              "  <tbody>\n",
              "    <tr>\n",
              "      <th>0</th>\n",
              "      <td>248151</td>\n",
              "      <td>AA Batteries (4-pack)</td>\n",
              "      <td>4</td>\n",
              "      <td>3.84</td>\n",
              "      <td>09/17/19 14:44</td>\n",
              "      <td>380 North St, Los Angeles, CA 90001</td>\n",
              "    </tr>\n",
              "    <tr>\n",
              "      <th>1</th>\n",
              "      <td>248152</td>\n",
              "      <td>USB-C Charging Cable</td>\n",
              "      <td>2</td>\n",
              "      <td>11.95</td>\n",
              "      <td>09/29/19 10:19</td>\n",
              "      <td>511 8th St, Austin, TX 73301</td>\n",
              "    </tr>\n",
              "    <tr>\n",
              "      <th>2</th>\n",
              "      <td>248153</td>\n",
              "      <td>USB-C Charging Cable</td>\n",
              "      <td>1</td>\n",
              "      <td>11.95</td>\n",
              "      <td>09/16/19 17:48</td>\n",
              "      <td>151 Johnson St, Los Angeles, CA 90001</td>\n",
              "    </tr>\n",
              "    <tr>\n",
              "      <th>3</th>\n",
              "      <td>248154</td>\n",
              "      <td>27in FHD Monitor</td>\n",
              "      <td>1</td>\n",
              "      <td>149.99</td>\n",
              "      <td>09/27/19 07:52</td>\n",
              "      <td>355 Hickory St, Seattle, WA 98101</td>\n",
              "    </tr>\n",
              "    <tr>\n",
              "      <th>4</th>\n",
              "      <td>248155</td>\n",
              "      <td>USB-C Charging Cable</td>\n",
              "      <td>1</td>\n",
              "      <td>11.95</td>\n",
              "      <td>09/01/19 19:03</td>\n",
              "      <td>125 5th St, Atlanta, GA 30301</td>\n",
              "    </tr>\n",
              "  </tbody>\n",
              "</table>\n",
              "</div>\n",
              "      <button class=\"colab-df-convert\" onclick=\"convertToInteractive('df-f1cbbbd5-fd79-497d-af0a-ede95a0afdf9')\"\n",
              "              title=\"Convert this dataframe to an interactive table.\"\n",
              "              style=\"display:none;\">\n",
              "        \n",
              "  <svg xmlns=\"http://www.w3.org/2000/svg\" height=\"24px\"viewBox=\"0 0 24 24\"\n",
              "       width=\"24px\">\n",
              "    <path d=\"M0 0h24v24H0V0z\" fill=\"none\"/>\n",
              "    <path d=\"M18.56 5.44l.94 2.06.94-2.06 2.06-.94-2.06-.94-.94-2.06-.94 2.06-2.06.94zm-11 1L8.5 8.5l.94-2.06 2.06-.94-2.06-.94L8.5 2.5l-.94 2.06-2.06.94zm10 10l.94 2.06.94-2.06 2.06-.94-2.06-.94-.94-2.06-.94 2.06-2.06.94z\"/><path d=\"M17.41 7.96l-1.37-1.37c-.4-.4-.92-.59-1.43-.59-.52 0-1.04.2-1.43.59L10.3 9.45l-7.72 7.72c-.78.78-.78 2.05 0 2.83L4 21.41c.39.39.9.59 1.41.59.51 0 1.02-.2 1.41-.59l7.78-7.78 2.81-2.81c.8-.78.8-2.07 0-2.86zM5.41 20L4 18.59l7.72-7.72 1.47 1.35L5.41 20z\"/>\n",
              "  </svg>\n",
              "      </button>\n",
              "      \n",
              "  <style>\n",
              "    .colab-df-container {\n",
              "      display:flex;\n",
              "      flex-wrap:wrap;\n",
              "      gap: 12px;\n",
              "    }\n",
              "\n",
              "    .colab-df-convert {\n",
              "      background-color: #E8F0FE;\n",
              "      border: none;\n",
              "      border-radius: 50%;\n",
              "      cursor: pointer;\n",
              "      display: none;\n",
              "      fill: #1967D2;\n",
              "      height: 32px;\n",
              "      padding: 0 0 0 0;\n",
              "      width: 32px;\n",
              "    }\n",
              "\n",
              "    .colab-df-convert:hover {\n",
              "      background-color: #E2EBFA;\n",
              "      box-shadow: 0px 1px 2px rgba(60, 64, 67, 0.3), 0px 1px 3px 1px rgba(60, 64, 67, 0.15);\n",
              "      fill: #174EA6;\n",
              "    }\n",
              "\n",
              "    [theme=dark] .colab-df-convert {\n",
              "      background-color: #3B4455;\n",
              "      fill: #D2E3FC;\n",
              "    }\n",
              "\n",
              "    [theme=dark] .colab-df-convert:hover {\n",
              "      background-color: #434B5C;\n",
              "      box-shadow: 0px 1px 3px 1px rgba(0, 0, 0, 0.15);\n",
              "      filter: drop-shadow(0px 1px 2px rgba(0, 0, 0, 0.3));\n",
              "      fill: #FFFFFF;\n",
              "    }\n",
              "  </style>\n",
              "\n",
              "      <script>\n",
              "        const buttonEl =\n",
              "          document.querySelector('#df-f1cbbbd5-fd79-497d-af0a-ede95a0afdf9 button.colab-df-convert');\n",
              "        buttonEl.style.display =\n",
              "          google.colab.kernel.accessAllowed ? 'block' : 'none';\n",
              "\n",
              "        async function convertToInteractive(key) {\n",
              "          const element = document.querySelector('#df-f1cbbbd5-fd79-497d-af0a-ede95a0afdf9');\n",
              "          const dataTable =\n",
              "            await google.colab.kernel.invokeFunction('convertToInteractive',\n",
              "                                                     [key], {});\n",
              "          if (!dataTable) return;\n",
              "\n",
              "          const docLinkHtml = 'Like what you see? Visit the ' +\n",
              "            '<a target=\"_blank\" href=https://colab.research.google.com/notebooks/data_table.ipynb>data table notebook</a>'\n",
              "            + ' to learn more about interactive tables.';\n",
              "          element.innerHTML = '';\n",
              "          dataTable['output_type'] = 'display_data';\n",
              "          await google.colab.output.renderOutput(dataTable, element);\n",
              "          const docLink = document.createElement('div');\n",
              "          docLink.innerHTML = docLinkHtml;\n",
              "          element.appendChild(docLink);\n",
              "        }\n",
              "      </script>\n",
              "    </div>\n",
              "  </div>\n",
              "  "
            ]
          },
          "metadata": {},
          "execution_count": 77
        }
      ]
    },
    {
      "cell_type": "markdown",
      "source": [
        "Add extra column for order month"
      ],
      "metadata": {
        "id": "csxJOAvKJRj3"
      }
    },
    {
      "cell_type": "code",
      "source": [
        "all_data = all_months_data[all_months_data['Order Date'].str[0:2]!='Or']\n"
      ],
      "metadata": {
        "id": "P8ClNMDiJRHY"
      },
      "execution_count": 9,
      "outputs": []
    },
    {
      "cell_type": "markdown",
      "source": [
        "Data Cleaning"
      ],
      "metadata": {
        "id": "ZrrFxGwdzwew"
      }
    },
    {
      "cell_type": "code",
      "source": [
        "df_cleaning=all_data[all_data.isna().any(axis=1)]\n",
        "display(df_cleaning)\n",
        "cleaned_data=all_data.dropna(how='any')\n",
        "cleaned_data.head()"
      ],
      "metadata": {
        "id": "VDf-qXWQzvwA"
      },
      "execution_count": null,
      "outputs": []
    },
    {
      "cell_type": "markdown",
      "source": [
        "Add extra column for order month and Time"
      ],
      "metadata": {
        "id": "mImarvs9EITG"
      }
    },
    {
      "cell_type": "code",
      "source": [
        "from numpy import int32\n",
        "cleaned_data['Month']=pd.to_datetime(cleaned_data['Order Date']).dt.month.astype(int32)\n",
        "cleaned_data['Time']=pd.to_datetime(cleaned_data['Order Date']).dt.time\n",
        "cleaned_data.head()"
      ],
      "metadata": {
        "id": "zRISsZLVDzxx"
      },
      "execution_count": null,
      "outputs": []
    },
    {
      "cell_type": "markdown",
      "source": [
        "Getting seles by Order date and month"
      ],
      "metadata": {
        "id": "tZpzIiog3EKN"
      }
    },
    {
      "cell_type": "code",
      "source": [
        "cleaned_data.sort_values(by=['Order Date'], ascending=False, na_position='first').head()\n"
      ],
      "metadata": {
        "id": "YZs02pAY3LSc"
      },
      "execution_count": null,
      "outputs": []
    },
    {
      "cell_type": "markdown",
      "source": [
        "Get Customer city from purchase adress column"
      ],
      "metadata": {
        "id": "Ip8sIzrTcFxZ"
      }
    },
    {
      "cell_type": "code",
      "source": [
        "\n",
        "cleaned_data['Customer City'] = cleaned_data['Purchase Address'].apply(lambda x: x.split(\",\")[1].strip(\"\"))\n",
        "cleaned_data.head()\n"
      ],
      "metadata": {
        "id": "tDOrT1iAkxhI"
      },
      "execution_count": null,
      "outputs": []
    },
    {
      "cell_type": "markdown",
      "source": [
        "Addind Sells column"
      ],
      "metadata": {
        "id": "ylFvonM3kyPH"
      }
    },
    {
      "cell_type": "code",
      "source": [
        "from numpy import int32\n",
        "from numpy import float64\n",
        "cleaned_data['Sales'] = cleaned_data['Quantity Ordered'].astype(int32) * cleaned_data['Price Each'].astype(float64)\n",
        "cleaned_data.head()"
      ],
      "metadata": {
        "id": "p4XxXDcGcRls"
      },
      "execution_count": null,
      "outputs": []
    },
    {
      "cell_type": "markdown",
      "source": [
        "Data visulation!!!!"
      ],
      "metadata": {
        "id": "P-KC4NiB_B0c"
      }
    },
    {
      "cell_type": "markdown",
      "source": [
        "Retriving highest seles in a month"
      ],
      "metadata": {
        "id": "egq7n1BsL-g5"
      }
    },
    {
      "cell_type": "code",
      "source": [
        "cleaned_data['Quantity Ordered'] = pd.to_numeric(cleaned_data['Quantity Ordered'])\n",
        "cleaned_data['Price Each'] = pd.to_numeric(cleaned_data['Price Each'])\n",
        "hihest_df=cleaned_data.groupby(['Month']).sum()\n",
        "hihest_df\n"
      ],
      "metadata": {
        "id": "nRpFGuN9MCXi"
      },
      "execution_count": null,
      "outputs": []
    },
    {
      "cell_type": "markdown",
      "source": [
        "What city sold the highest product?"
      ],
      "metadata": {
        "id": "plipiWRvNpHq"
      }
    },
    {
      "cell_type": "code",
      "source": [
        "df_sold=cleaned_data.groupby(by=['Customer City']).sum()\n",
        "df_sold\n"
      ],
      "metadata": {
        "id": "qgfsCoq45TiZ"
      },
      "execution_count": null,
      "outputs": []
    },
    {
      "cell_type": "code",
      "source": [
        "import matplotlib.pyplot as plt\n"
      ],
      "metadata": {
        "id": "orbRVmxLNVLH"
      },
      "execution_count": 33,
      "outputs": []
    },
    {
      "cell_type": "code",
      "source": [
        "import matplotlib.pyplot as plt\n",
        "\n",
        "months = range(1,13)\n",
        "print(months)\n",
        "\n",
        "plt.bar(months,hihest_df['Sales'])\n",
        "\n",
        "plt.ylabel('Sales in Euro(€)')\n",
        "plt.xlabel('Month')\n",
        "plt.show()"
      ],
      "metadata": {
        "id": "c_WiH3F9_ex7",
        "colab": {
          "base_uri": "https://localhost:8080/",
          "height": 307
        },
        "outputId": "0f1353bb-347b-4857-d820-6888ad93faa5"
      },
      "execution_count": 46,
      "outputs": [
        {
          "output_type": "stream",
          "name": "stdout",
          "text": [
            "range(1, 13)\n"
          ]
        },
        {
          "output_type": "display_data",
          "data": {
            "text/plain": [
              "<Figure size 432x288 with 1 Axes>"
            ],
            "image/png": "[encoded data removed]"
          },
          "metadata": {
            "needs_background": "light"
          }
        }
      ]
    },
    {
      "cell_type": "markdown",
      "source": [
        "Retrive highest order by city"
      ],
      "metadata": {
        "id": "kYqlzbDHX0uH"
      }
    },
    {
      "cell_type": "code",
      "source": [
        "hihest_city_df=cleaned_data.groupby(['Customer City']).sum().sort_values(by=['Quantity Ordered'],ascending=False)\n",
        "hihest_city_df"
      ],
      "metadata": {
        "colab": {
          "base_uri": "https://localhost:8080/",
          "height": 363
        },
        "id": "Ivv_55VxX5f_",
        "outputId": "98ebc7af-fcd8-402f-88a1-4a28e6d27ba0"
      },
      "execution_count": 63,
      "outputs": [
        {
          "output_type": "execute_result",
          "data": {
            "text/plain": [
              "                Quantity Ordered  Price Each   Month       Sales\n",
              "Customer City                                                   \n",
              " San Francisco             50239  8211461.74  315520  8262203.91\n",
              " Los Angeles               33289  5421435.23  208325  5452570.80\n",
              " New York City             27932  4635370.83  175741  4664317.43\n",
              " Boston                    22528  3637409.77  141112  3661642.01\n",
              " Dallas                    16730  2752627.82  104620  2767975.40\n",
              " Atlanta                   16602  2779908.20  104794  2795498.58\n",
              " Seattle                   16553  2733296.01  104941  2747755.48\n",
              " Portland                  14053  2307747.47   87765  2320490.61\n",
              " Austin                    11153  1809873.61   69829  1819581.75"
            ],
            "text/html": [
              "\n",
              "  <div id=\"df-24adcb25-ca0c-4935-809d-4f2b376a1955\">\n",
              "    <div class=\"colab-df-container\">\n",
              "      <div>\n",
              "<style scoped>\n",
              "    .dataframe tbody tr th:only-of-type {\n",
              "        vertical-align: middle;\n",
              "    }\n",
              "\n",
              "    .dataframe tbody tr th {\n",
              "        vertical-align: top;\n",
              "    }\n",
              "\n",
              "    .dataframe thead th {\n",
              "        text-align: right;\n",
              "    }\n",
              "</style>\n",
              "<table border=\"1\" class=\"dataframe\">\n",
              "  <thead>\n",
              "    <tr style=\"text-align: right;\">\n",
              "      <th></th>\n",
              "      <th>Quantity Ordered</th>\n",
              "      <th>Price Each</th>\n",
              "      <th>Month</th>\n",
              "      <th>Sales</th>\n",
              "    </tr>\n",
              "    <tr>\n",
              "      <th>Customer City</th>\n",
              "      <th></th>\n",
              "      <th></th>\n",
              "      <th></th>\n",
              "      <th></th>\n",
              "    </tr>\n",
              "  </thead>\n",
              "  <tbody>\n",
              "    <tr>\n",
              "      <th>San Francisco</th>\n",
              "      <td>50239</td>\n",
              "      <td>8211461.74</td>\n",
              "      <td>315520</td>\n",
              "      <td>8262203.91</td>\n",
              "    </tr>\n",
              "    <tr>\n",
              "      <th>Los Angeles</th>\n",
              "      <td>33289</td>\n",
              "      <td>5421435.23</td>\n",
              "      <td>208325</td>\n",
              "      <td>5452570.80</td>\n",
              "    </tr>\n",
              "    <tr>\n",
              "      <th>New York City</th>\n",
              "      <td>27932</td>\n",
              "      <td>4635370.83</td>\n",
              "      <td>175741</td>\n",
              "      <td>4664317.43</td>\n",
              "    </tr>\n",
              "    <tr>\n",
              "      <th>Boston</th>\n",
              "      <td>22528</td>\n",
              "      <td>3637409.77</td>\n",
              "      <td>141112</td>\n",
              "      <td>3661642.01</td>\n",
              "    </tr>\n",
              "    <tr>\n",
              "      <th>Dallas</th>\n",
              "      <td>16730</td>\n",
              "      <td>2752627.82</td>\n",
              "      <td>104620</td>\n",
              "      <td>2767975.40</td>\n",
              "    </tr>\n",
              "    <tr>\n",
              "      <th>Atlanta</th>\n",
              "      <td>16602</td>\n",
              "      <td>2779908.20</td>\n",
              "      <td>104794</td>\n",
              "      <td>2795498.58</td>\n",
              "    </tr>\n",
              "    <tr>\n",
              "      <th>Seattle</th>\n",
              "      <td>16553</td>\n",
              "      <td>2733296.01</td>\n",
              "      <td>104941</td>\n",
              "      <td>2747755.48</td>\n",
              "    </tr>\n",
              "    <tr>\n",
              "      <th>Portland</th>\n",
              "      <td>14053</td>\n",
              "      <td>2307747.47</td>\n",
              "      <td>87765</td>\n",
              "      <td>2320490.61</td>\n",
              "    </tr>\n",
              "    <tr>\n",
              "      <th>Austin</th>\n",
              "      <td>11153</td>\n",
              "      <td>1809873.61</td>\n",
              "      <td>69829</td>\n",
              "      <td>1819581.75</td>\n",
              "    </tr>\n",
              "  </tbody>\n",
              "</table>\n",
              "</div>\n",
              "      <button class=\"colab-df-convert\" onclick=\"convertToInteractive('df-24adcb25-ca0c-4935-809d-4f2b376a1955')\"\n",
              "              title=\"Convert this dataframe to an interactive table.\"\n",
              "              style=\"display:none;\">\n",
              "        \n",
              "  <svg xmlns=\"http://www.w3.org/2000/svg\" height=\"24px\"viewBox=\"0 0 24 24\"\n",
              "       width=\"24px\">\n",
              "    <path d=\"M0 0h24v24H0V0z\" fill=\"none\"/>\n",
              "    <path d=\"M18.56 5.44l.94 2.06.94-2.06 2.06-.94-2.06-.94-.94-2.06-.94 2.06-2.06.94zm-11 1L8.5 8.5l.94-2.06 2.06-.94-2.06-.94L8.5 2.5l-.94 2.06-2.06.94zm10 10l.94 2.06.94-2.06 2.06-.94-2.06-.94-.94-2.06-.94 2.06-2.06.94z\"/><path d=\"M17.41 7.96l-1.37-1.37c-.4-.4-.92-.59-1.43-.59-.52 0-1.04.2-1.43.59L10.3 9.45l-7.72 7.72c-.78.78-.78 2.05 0 2.83L4 21.41c.39.39.9.59 1.41.59.51 0 1.02-.2 1.41-.59l7.78-7.78 2.81-2.81c.8-.78.8-2.07 0-2.86zM5.41 20L4 18.59l7.72-7.72 1.47 1.35L5.41 20z\"/>\n",
              "  </svg>\n",
              "      </button>\n",
              "      \n",
              "  <style>\n",
              "    .colab-df-container {\n",
              "      display:flex;\n",
              "      flex-wrap:wrap;\n",
              "      gap: 12px;\n",
              "    }\n",
              "\n",
              "    .colab-df-convert {\n",
              "      background-color: #E8F0FE;\n",
              "      border: none;\n",
              "      border-radius: 50%;\n",
              "      cursor: pointer;\n",
              "      display: none;\n",
              "      fill: #1967D2;\n",
              "      height: 32px;\n",
              "      padding: 0 0 0 0;\n",
              "      width: 32px;\n",
              "    }\n",
              "\n",
              "    .colab-df-convert:hover {\n",
              "      background-color: #E2EBFA;\n",
              "      box-shadow: 0px 1px 2px rgba(60, 64, 67, 0.3), 0px 1px 3px 1px rgba(60, 64, 67, 0.15);\n",
              "      fill: #174EA6;\n",
              "    }\n",
              "\n",
              "    [theme=dark] .colab-df-convert {\n",
              "      background-color: #3B4455;\n",
              "      fill: #D2E3FC;\n",
              "    }\n",
              "\n",
              "    [theme=dark] .colab-df-convert:hover {\n",
              "      background-color: #434B5C;\n",
              "      box-shadow: 0px 1px 3px 1px rgba(0, 0, 0, 0.15);\n",
              "      filter: drop-shadow(0px 1px 2px rgba(0, 0, 0, 0.3));\n",
              "      fill: #FFFFFF;\n",
              "    }\n",
              "  </style>\n",
              "\n",
              "      <script>\n",
              "        const buttonEl =\n",
              "          document.querySelector('#df-24adcb25-ca0c-4935-809d-4f2b376a1955 button.colab-df-convert');\n",
              "        buttonEl.style.display =\n",
              "          google.colab.kernel.accessAllowed ? 'block' : 'none';\n",
              "\n",
              "        async function convertToInteractive(key) {\n",
              "          const element = document.querySelector('#df-24adcb25-ca0c-4935-809d-4f2b376a1955');\n",
              "          const dataTable =\n",
              "            await google.colab.kernel.invokeFunction('convertToInteractive',\n",
              "                                                     [key], {});\n",
              "          if (!dataTable) return;\n",
              "\n",
              "          const docLinkHtml = 'Like what you see? Visit the ' +\n",
              "            '<a target=\"_blank\" href=https://colab.research.google.com/notebooks/data_table.ipynb>data table notebook</a>'\n",
              "            + ' to learn more about interactive tables.';\n",
              "          element.innerHTML = '';\n",
              "          dataTable['output_type'] = 'display_data';\n",
              "          await google.colab.output.renderOutput(dataTable, element);\n",
              "          const docLink = document.createElement('div');\n",
              "          docLink.innerHTML = docLinkHtml;\n",
              "          element.appendChild(docLink);\n",
              "        }\n",
              "      </script>\n",
              "    </div>\n",
              "  </div>\n",
              "  "
            ]
          },
          "metadata": {},
          "execution_count": 63
        }
      ]
    },
    {
      "cell_type": "code",
      "source": [
        "cites = [city for city, df in cleaned_data.groupby(['Customer City'])]\n",
        "\n",
        "plt.bar(cites,cleaned_data.groupby(['Customer City']).sum()['Sales'])\n",
        "plt.xticks(cites, rotation='vertical')\n",
        "plt.ylabel('Sales in Euro(€)')\n",
        "plt.xlabel('City')\n",
        "plt.show()"
      ],
      "metadata": {
        "colab": {
          "base_uri": "https://localhost:8080/",
          "height": 352
        },
        "id": "y07ANWP3gF_K",
        "outputId": "db840a00-201a-4f29-e6fe-eae28d7c20e9"
      },
      "execution_count": 71,
      "outputs": [
        {
          "output_type": "display_data",
          "data": {
            "text/plain": [
              "<Figure size 432x288 with 1 Axes>"
            ],
            "image/png": "[encoded data removed]"
          },
          "metadata": {
            "needs_background": "light"
          }
        }
      ]
    },
    {
      "cell_type": "markdown",
      "source": [
        "What time the customers mostly like to buy products"
      ],
      "metadata": {
        "id": "0kuD4-AOmek8"
      }
    },
    {
      "cell_type": "code",
      "source": [
        "cleaned_data['Hour'] = pd.to_datetime(cleaned_data['Order Date']).dt.hour\n",
        "cleaned_data['Minute'] = pd.to_datetime(cleaned_data['Order Date']).dt.minute\n",
        "\n",
        "cleaned_data.head()"
      ],
      "metadata": {
        "id": "RWRmCyApmlli"
      },
      "execution_count": null,
      "outputs": []
    },
    {
      "cell_type": "code",
      "source": [
        "keys = [pair for pair, df in cleaned_data.groupby(['Hour'])]\n",
        "\n",
        "plt.plot(keys, cleaned_data.groupby(['Hour']).count()['Count'])\n",
        "plt.xticks(keys)\n",
        "plt.grid()\n",
        "plt.show()"
      ],
      "metadata": {
        "colab": {
          "base_uri": "https://localhost:8080/",
          "height": 265
        },
        "id": "OEv4Pr3Hn5uS",
        "outputId": "af967eeb-70be-4e34-8f04-80ecf854b628"
      },
      "execution_count": 75,
      "outputs": [
        {
          "output_type": "display_data",
          "data": {
            "text/plain": [
              "<Figure size 432x288 with 1 Axes>"
            ],
            "image/png": "[encoded data removed]"
          },
          "metadata": {
            "needs_background": "light"
          }
        }
      ]
    },
    {
      "cell_type": "markdown",
      "source": [
        "Whats products the customers mostly orders together"
      ],
      "metadata": {
        "id": "w9uoy6NRo3Fb"
      }
    },
    {
      "cell_type": "code",
      "source": [
        "cleaned_data['Grouped_id'] = cleaned_data.groupby(by='Order ID')['Product'].transform(lambda x: ','.join(x))\n",
        "mostly_product_df = cleaned_data[['Order ID', 'Grouped_id']].drop_duplicates()"
      ],
      "metadata": {
        "colab": {
          "base_uri": "https://localhost:8080/"
        },
        "id": "OtdQiMdpo8PZ",
        "outputId": "b49fa9d6-44c4-4130-be4e-df710df98936"
      },
      "execution_count": 94,
      "outputs": [
        {
          "output_type": "stream",
          "name": "stderr",
          "text": [
            "/usr/local/lib/python3.7/dist-packages/ipykernel_launcher.py:1: SettingWithCopyWarning: \n",
            "A value is trying to be set on a copy of a slice from a DataFrame.\n",
            "Try using .loc[row_indexer,col_indexer] = value instead\n",
            "\n",
            "See the caveats in the documentation: https://pandas.pydata.org/pandas-docs/stable/user_guide/indexing.html#returning-a-view-versus-a-copy\n",
            "  \"\"\"Entry point for launching an IPython kernel.\n"
          ]
        }
      ]
    },
    {
      "cell_type": "code",
      "source": [
        "#--References https://stackoverflow.com/questions/52195887/counting-unique-pairs-of-numbers-into-a-python-dictionary\n",
        "from itertools import combinations\n",
        "from collections import Counter\n",
        "\n",
        "count = Counter()\n",
        "\n",
        "for row in mostly_product_df['Grouped_id']:\n",
        "    row_list = row.split(',')\n",
        "    count.update(Counter(combinations(row_list, 2)))\n",
        " \n",
        "    \n",
        "\n",
        "for key,value in count.most_common():\n",
        "    print(key, value)"
      ],
      "metadata": {
        "id": "PdxwdDT_0YJc"
      },
      "execution_count": null,
      "outputs": []
    },
    {
      "cell_type": "markdown",
      "source": [
        "Whats products the customers mostly orders"
      ],
      "metadata": {
        "id": "5hlA4rvu4L2C"
      }
    },
    {
      "cell_type": "code",
      "source": [
        "quantity_ordered = cleaned_data.groupby('Product').sum()['Quantity Ordered']\n",
        "\n",
        "keys = [pair for pair, df in cleaned_data.groupby('Product')]\n",
        "plt.bar(keys, quantity_ordered)\n",
        "plt.xticks(keys, rotation='vertical')\n",
        "plt.show()"
      ],
      "metadata": {
        "colab": {
          "base_uri": "https://localhost:8080/",
          "height": 406
        },
        "id": "7vf6bB1D4SuM",
        "outputId": "0c2a584d-b16a-4c13-e332-b616f212e3aa"
      },
      "execution_count": 110,
      "outputs": [
        {
          "output_type": "display_data",
          "data": {
            "text/plain": [
              "<Figure size 432x288 with 1 Axes>"
            ],
            "image/png": "[encoded data removed]"
          },
          "metadata": {
            "needs_background": "light"
          }
        }
      ]
    }
  ]
}